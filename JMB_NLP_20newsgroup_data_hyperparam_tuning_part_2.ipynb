{
 "cells": [
  {
   "cell_type": "markdown",
   "metadata": {},
   "source": [
    "# Hyper-parameter tuning part 2:\n",
    "## Classify two of \"20 newsgroups\"\n",
    "### Tuning the vectorizer and classifier with a pipeline\n",
    "\n",
    "\n",
    "#### Created by John Burt\n",
    "\n",
    "Based on example code [from Scikit-learn documentation](http://scikit-learn.org/stable/auto_examples/model_selection/grid_search_text_feature_extraction.html#sphx-glr-auto-examples-model-selection-grid-search-text-feature-extraction-py) \n",
    "\n",
    "In this example, I implement a classifier to estimate whether a comment is from one of two selected newsgroups, \"alt.atheism\" or \"talk.religion.misc\". Unlike in the first example, however, I also tune the transformation of words to vectors via TfidfVectorizer. \n",
    "\n",
    "#### General classifier procedure:\n",
    "- vectorize the text content into features using TfidfVectorizer\n",
    "- train a stochastic gradient descent classifier (SGDClassifier) to classify text as one of the given newsgroup categories.\n",
    "\n",
    "#### Hyperparameter tuning procedure:\n",
    "- Create a pipeline object that contains the two stages of the training procedure: TfidfVectorizer and SGDClassifier\n",
    "- Use a grid search to find the TfidfVectorizer and SGDClassifier parameters that give best accuracy.\n",
    "\n",
    "\n",
    "### About the 20 Newsgroups text dataset:\n",
    "The [20 newsgroups dataset](http://scikit-learn.org/stable/datasets/twenty_newsgroups.html#newsgroups) is easily accessible from the scikit-learn module. It comprises around 18000 newsgroups posts on 20 topics split in two subsets: one for training (or development) and the other one for testing (or for performance evaluation). The split between the train and test set is based upon a messages posted before and after a specific date.\n",
    "\n",
    "The 20 newsgroup names are:\n",
    "- alt.atheism, comp.graphics, comp.os.ms-windows.misc, comp.sys.ibm.pc.hardware, comp.sys.mac.hardware, comp.windows.x, misc.forsale, rec.autos, rec.motorcycles, rec.sport.baseball, rec.sport.hockey, sci.crypt, sci.electronics, sci.med, sci.space, soc.religion.christian, talk.politics.guns, talk.politics.mideast, talk.politics.misc, talk.religion.misc"
   ]
  },
  {
   "cell_type": "code",
   "execution_count": 1,
   "metadata": {},
   "outputs": [
    {
     "name": "stdout",
     "output_type": "stream",
     "text": [
      "Loading 20 newsgroups dataset for categories:\n",
      "['alt.atheism', 'talk.religion.misc']\n",
      "\n",
      "857 total samples\n",
      "  480 samples of alt.atheism\n",
      "  377 samples of talk.religion.misc\n"
     ]
    }
   ],
   "source": [
    "# remove warnings\n",
    "import warnings\n",
    "warnings.filterwarnings('ignore')\n",
    "# ---\n",
    "\n",
    "# set matplotlib environment and import some basics\n",
    "%matplotlib inline\n",
    "from matplotlib import pyplot as plt\n",
    "import matplotlib\n",
    "matplotlib.style.use('ggplot')\n",
    "import numpy as np\n",
    "import pandas as pd\n",
    "pd.options.display.max_columns = 100\n",
    "pd.options.display.max_rows = 100\n",
    "pd.options.display.max_colwidth = 100 # set to -1 to see entire text\n",
    "\n",
    "# import the scikit modules to be used\n",
    "from sklearn.datasets import fetch_20newsgroups\n",
    "\n",
    "# specify some categories from the training set\n",
    "# categories = [\n",
    "#     'alt.atheism',\n",
    "#     'talk.religion.misc',\n",
    "# ]\n",
    "# categories = [\n",
    "#     'rec.sport.baseball',\n",
    "#     'rec.sport.hockey',\n",
    "# ]\n",
    "# specify some categories from the training set\n",
    "categories = [\n",
    "    'alt.atheism',\n",
    "    'talk.religion.misc',\n",
    "]\n",
    "# Uncomment the following to do the analysis on all the categories\n",
    "#categories = None\n",
    "\n",
    "print(\"Loading 20 newsgroups dataset for categories:\")\n",
    "print(categories)\n",
    "\n",
    "# load the training dataset\n",
    "data = fetch_20newsgroups(subset='train', categories=categories)\n",
    "\n",
    "print(\"\\n%d total samples\"%(len(data.target)))\n",
    "for catname,index in zip(data.target_names, range(len(data.target_names))):\n",
    "    print(\"  %d samples of %s\"%(sum(data.target==index), catname))\n"
   ]
  },
  {
   "cell_type": "code",
   "execution_count": 9,
   "metadata": {
    "scrolled": false
   },
   "outputs": [
    {
     "name": "stderr",
     "output_type": "stream",
     "text": [
      "C:\\Users\\john\\Anaconda3\\envs\\datasci\\lib\\site-packages\\sklearn\\linear_model\\stochastic_gradient.py:73: DeprecationWarning: n_iter parameter is deprecated in 0.19 and will be removed in 0.21. Use max_iter and tol instead.\n",
      "  DeprecationWarning)\n"
     ]
    },
    {
     "name": "stdout",
     "output_type": "stream",
     "text": [
      "Performing grid search...\n",
      "parameters:\n",
      "{'vect__max_df': (0.1, 0.25, 0.5, 0.75), 'vect__ngram_range': ((1, 1), (1, 2), (2, 2)), 'vect__use_idf': (True, False), 'vect__min_df': (1, 2, 5), 'clf__penalty': ('none', 'l2', 'l1', 'elasticnet')}\n",
      "Fitting 3 folds for each of 288 candidates, totalling 864 fits\n"
     ]
    },
    {
     "name": "stderr",
     "output_type": "stream",
     "text": [
      "[Parallel(n_jobs=-1)]: Done  34 tasks      | elapsed:    7.1s\n",
      "[Parallel(n_jobs=-1)]: Done 184 tasks      | elapsed:   29.4s\n",
      "[Parallel(n_jobs=-1)]: Done 434 tasks      | elapsed:  1.2min\n",
      "[Parallel(n_jobs=-1)]: Done 784 tasks      | elapsed:  2.3min\n",
      "[Parallel(n_jobs=-1)]: Done 864 out of 864 | elapsed:  2.5min finished\n"
     ]
    },
    {
     "name": "stdout",
     "output_type": "stream",
     "text": [
      "done in 153.702s\n",
      "\n",
      "Best score: 0.953\n",
      "Best parameters set:\n",
      "\tclf__penalty: 'l2'\n",
      "\tvect__max_df: 0.25\n",
      "\tvect__min_df: 1\n",
      "\tvect__ngram_range: (2, 2)\n",
      "\tvect__use_idf: False\n"
     ]
    }
   ],
   "source": [
    "from time import time\n",
    "from sklearn.feature_extraction.text import TfidfVectorizer\n",
    "from sklearn.linear_model import SGDClassifier\n",
    "from sklearn.model_selection import GridSearchCV\n",
    "from sklearn.pipeline import Pipeline\n",
    "\n",
    "# Define TfidfVectorizer defaults: \n",
    "# Doing it this way allows us to define our own default params based on prior gridsearch runs.\n",
    "vect_defaults = {\n",
    "    \"analyzer\":'word', \n",
    "    \"max_features\" : None,\n",
    "    \"max_df\" : 0.5, # Filters out terms that occur in more than half of the docs (max_df=0.5)\n",
    "    \"min_df\" : 2, # Filters out terms that occur in only one document (min_df=2).\n",
    "    \"ngram_range\":(1, 3), # unigrams\n",
    "    \"stop_words\" : \"english\", # None, # \"english\", # Strips out “stop words”\n",
    "    \"use_idf\" : True\n",
    "    }\n",
    "\n",
    "# Define SGDClassifier defaults: \n",
    "# define defaults: doing it this way allows us to define our own default params\n",
    "clf_defaults = {\n",
    "    \"alpha\": 1e-03, \n",
    "    \"penalty\" : 'l2',\n",
    "    \"n_iter\" : 10\n",
    "    }\n",
    "\n",
    "# Create a pipeline combining a text vectorizer with SGDClassifier classifier\n",
    "pipeline = Pipeline([    \n",
    "    ('vect', TfidfVectorizer(**vect_defaults)),\n",
    "    ('clf', SGDClassifier(**clf_defaults)),\n",
    "])\n",
    "\n",
    "# Define the parameters and values we want to test.\n",
    "# Uncommenting more parameters will give better exploring power but will\n",
    "#   increase processing time in a combinatorial way. I suggest tuning <= 3\n",
    "#   parameters at a time.\n",
    "# Note the naming format: pipelineobjectname__paramname\n",
    "parameters = {\n",
    "    #'vect__stop_words': ('english', None),\n",
    "    #'vect__analyzer': ('word', 'char_wb'),\n",
    "    #'vect__analyzer': ('word', 'char', 'char_wb'),\n",
    "    'vect__max_df': (0.1, 0.25, 0.5, 0.75),\n",
    "    'vect__min_df': (1,2,5),\n",
    "    #'vect__max_features': (None, 5000, 10000, 50000),\n",
    "    'vect__ngram_range': ((1, 1), (1, 2), (2, 2)),  # unigrams or bigrams\n",
    "    'vect__use_idf': (True, False),\n",
    "    \n",
    "    #'clf__alpha': (1e-02, 1e-03, 1e-04, 1e-05, 1e-06),\n",
    "    'clf__penalty': ( 'none', 'l2', 'l1', 'elasticnet'),\n",
    "    #'clf__n_iter': (5, 10, 20, 50, 80),\n",
    "}\n",
    "# find the best parameters for both the feature extraction and the\n",
    "# classifier\n",
    "grid_search = GridSearchCV(pipeline, parameters, n_jobs=-1, verbose=1)\n",
    "\n",
    "print(\"Performing grid search...\")\n",
    "print(\"parameters:\")\n",
    "print(parameters)\n",
    "t0 = time()\n",
    "grid_search.fit(data.data, data.target)\n",
    "print(\"done in %0.3fs\" % (time() - t0))\n",
    "print()\n",
    "\n",
    "print(\"Best score: %0.3f\" % grid_search.best_score_)\n",
    "print(\"Best parameters set:\")\n",
    "best_parameters = grid_search.best_estimator_.get_params()\n",
    "for param_name in sorted(parameters.keys()):\n",
    "    print(\"\\t%s: %r\" % (param_name, best_parameters[param_name]))\n"
   ]
  }
 ],
 "metadata": {
  "kernelspec": {
   "display_name": "Python 3",
   "language": "python",
   "name": "python3"
  },
  "language_info": {
   "codemirror_mode": {
    "name": "ipython",
    "version": 3
   },
   "file_extension": ".py",
   "mimetype": "text/x-python",
   "name": "python",
   "nbconvert_exporter": "python",
   "pygments_lexer": "ipython3",
   "version": "3.5.4"
  }
 },
 "nbformat": 4,
 "nbformat_minor": 2
}
